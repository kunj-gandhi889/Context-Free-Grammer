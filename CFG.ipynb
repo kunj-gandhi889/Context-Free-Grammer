{
 "cells": [
  {
   "attachments": {},
   "cell_type": "markdown",
   "metadata": {},
   "source": [
    "# EMPTYNESS AND FINITENESS PROBLEM OF CFG"
   ]
  },
  {
   "cell_type": "code",
   "execution_count": 1,
   "metadata": {},
   "outputs": [],
   "source": [
    "import re\n",
    "from collections import deque,Counter\n",
    "import networkx\n",
    "\n",
    "class notValidCFG(Exception):\n",
    "    def __init__(self,msg):\n",
    "        super().__init__(msg)\n",
    "\n",
    "class CFG:\n",
    "    \"\"\"\n",
    "    CFG -> CONTEXT FREE GRAMMER\n",
    "    ----------\n",
    "    DEFINES THE RULES TO GENERATE THE STRINGS FROM SET OF SYMBOLS\n",
    "    \n",
    "    It is Defined using 4-tuple G = {V,T,S,P} where V is set of Variables, T is set of Terminals, S is Starting Symbol (S ⊂ V), P is Production Symbol\n",
    "\n",
    "    The Variables must be in Uppercase and Terminals must be in Lowercase\n",
    "\n",
    "    Start Symbol should be S\n",
    "\n",
    "    Add productions line by line in string format\n",
    "    Write Multiple Productions Seperated by | or /\n",
    "    Ex: S->A|bB/C\n",
    "\n",
    "    write ε for null transition\n",
    "    \"\"\"\n",
    "    variables : set\n",
    "    terminals : set\n",
    "    start_symbol : chr\n",
    "    productions : dict\n",
    "    originalRules : set\n",
    "    EPSILON = \"ε\" \n",
    "\n",
    "    # if cfg is not valid then raises error\n",
    "    def __init__ (self,productions):\n",
    "\n",
    "        self.variables = set()\n",
    "        self.terminals = set()\n",
    "        self.start_symbol = \"S\"\n",
    "        self.productions = dict()  # map -> key = NT, Value = (NT T)*\n",
    "        self.originalRules = set() # original production rules in string format\n",
    "\n",
    "        productions = productions.strip()\n",
    "        for i in productions.split():\n",
    "            left,right = i.split('->')\n",
    "            left = left.strip()\n",
    "            if(len(left)!=1):\n",
    "                raise notValidCFG(\"CFG should be of format α -> β, where len(α)==1\")\n",
    "            if(not left.isupper()):\n",
    "                raise notValidCFG(\"α -> β, α should be non-terminal symbol\")\n",
    "            right = [j.strip() for j in re.split(\"\\/|\\|\",right)]\n",
    "\n",
    "            if(left not in self.productions):\n",
    "                self.productions[left] = []\n",
    "\n",
    "            for val in right:\n",
    "                self.productions[left].append(val)\n",
    "                for k in val:\n",
    "                    if(k.isupper()):\n",
    "                        self.variables.add(k)\n",
    "                    elif(k == self.EPSILON or k.islower() or k.isdigit()):\n",
    "                        self.terminals.add(k)\n",
    "\n",
    "            self.variables.add(left)\n",
    "        \n",
    "        if('S' not in self.variables):\n",
    "            raise notValidCFG(\"Starting Symbol 'S' Missing\")\n",
    "        \n",
    "        rules = set()\n",
    "        for i in self.productions:\n",
    "            for j in self.productions[i]:\n",
    "                rules.add(f\"{i}->{j}\")\n",
    "        self.originalRules = rules\n",
    "\n",
    "    def __str__(self) -> str:\n",
    "        \n",
    "        rules = set()\n",
    "\n",
    "        for i in self.productions:\n",
    "            for j in self.productions[i]:\n",
    "                rules.add(f\"{i}->{j}\")\n",
    "\n",
    "        s = \"CFG (V,T,S,P) = {\\n\" + f\"\\tV = {self.variables}\\n\\tT = {self.terminals}\\n\\tS = '{self.start_symbol}'\\n\\tP = {rules}\"+\"\\n}\"\n",
    "        return s\n",
    "    \n",
    "    def reachableFromStart(self): # uses bfs approach\n",
    "        \n",
    "        \"\"\"It finds all Non Terminal Symbols reachable from Start 'S'\"\"\"\n",
    "        \n",
    "        reachable = set()\n",
    "\n",
    "        queue = deque()\n",
    "        queue.append('S')\n",
    "\n",
    "        while(len(queue)>0):\n",
    "            symbol = queue.popleft()\n",
    "            reachable.add(symbol)\n",
    "            if(symbol in self.productions):\n",
    "                for prod in self.productions[symbol]:\n",
    "                    for token in prod:\n",
    "                        if(token not in reachable and token in self.variables):\n",
    "                            queue.append(token)\n",
    "        return reachable\n",
    "\n",
    "    def removeUnreachable(self,reachable):\n",
    "\n",
    "        \"\"\" Remove All Non Terminals that are non reachable from Start S \"\"\"\n",
    "\n",
    "        nonreachable = self.variables - reachable\n",
    "        for i in nonreachable:\n",
    "            if(i in self.productions):\n",
    "                del self.productions[i]\n",
    "        self.variables = reachable\n",
    "\n",
    "    def deriveTerminalSymbol(self):\n",
    "        \"\"\" Finds Non terminal which can derive the terminal string \"\"\"\n",
    "        \n",
    "        productive = {i:False for i in self.variables}\n",
    "        # whenever we find a production which generates terminal string on right side, we mark it as true\n",
    "\n",
    "        sum = -1\n",
    "        while(sum!=0):  # continue until no changes can be made\n",
    "            sum = 0\n",
    "            for prod in self.productions:\n",
    "                if(productive[prod]==False):\n",
    "                    for right in self.productions[prod]:\n",
    "                        if(all(i in self.terminals or productive[i] for i in right)):\n",
    "                            sum+=1\n",
    "                            productive[prod] = True\n",
    "                            break\n",
    "        return {i for i in productive if productive[i]}\n",
    "                \n",
    "    def removeProductive(self,productive):\n",
    "        \n",
    "        \"\"\" Removes all Non Terminals which cannot derive the terminal string (results in formation of loop among variables) \"\"\"\n",
    "        non_productive = self.variables - productive\n",
    "\n",
    "        new_rules = {}\n",
    "\n",
    "        for prod in self.productions:\n",
    "            if(prod in productive):\n",
    "                new_rules[prod] = []\n",
    "                for right in self.productions[prod]:\n",
    "                    if(all(i not in non_productive for i in right)):\n",
    "                        new_rules[prod].append(right)\n",
    "                    \n",
    "        self.productions = new_rules\n",
    "        self.variables = productive\n",
    "\n",
    "    def remove_useless_production(self):\n",
    "        \n",
    "        # Removes Non terminal which are not reachable from start\n",
    "        reachable = self.reachableFromStart()\n",
    "        self.removeUnreachable(reachable)\n",
    "\n",
    "        # Removes Non terminal which do not produce terminal symbol\n",
    "        productive = self.deriveTerminalSymbol()\n",
    "        self.removeProductive(productive)\n",
    "\n",
    "\n",
    "    def remove_unit_production(self):\n",
    "        \n",
    "        \"\"\" Remove Productions of form A->B, where both are Non-Terminal Symbols \"\"\"\n",
    "\n",
    "        # finding unit productions\n",
    "        unit_prod = dict()\n",
    "        for prod in self.productions:\n",
    "            for j in self.productions[prod]:\n",
    "                if(len(j)==1 and j in self.variables):  # form : A->B \n",
    "                    if(prod not in unit_prod):\n",
    "                        unit_prod[prod] = []\n",
    "                    unit_prod[prod].append(j)\n",
    "\n",
    "        # finding closure of every unit production symbol\n",
    "\n",
    "        for prod in unit_prod:\n",
    "            closure = set()\n",
    "            q = deque()\n",
    "            for j in unit_prod[prod]:\n",
    "                q.append(j)\n",
    "            \n",
    "            while(len(q)>0):\n",
    "                nt = q.popleft()\n",
    "                closure.add(nt)\n",
    "                if(nt in unit_prod):\n",
    "                    for k in unit_prod[nt]:\n",
    "                        q.append(k)\n",
    "            \n",
    "            unit_prod[prod] = closure\n",
    "\n",
    "        # removing unit production using closure\n",
    "        \n",
    "        remove_units = set()\n",
    "        for prod in unit_prod:\n",
    "            for j in unit_prod[prod]:\n",
    "                if(j in unit_prod and j not in remove_units):\n",
    "                    remove_units.add(j)\n",
    "        \n",
    "        update_unit_prod = dict()\n",
    "        for prod in unit_prod:\n",
    "            update_unit_prod[prod] = []\n",
    "            for j in unit_prod[prod]:\n",
    "                if(j not in remove_units and j in self.productions):\n",
    "                    update_unit_prod[prod].extend(self.productions[j])\n",
    "\n",
    "        new_rules = dict()\n",
    "        for prod in self.productions:\n",
    "            new_rules[prod] = []\n",
    "            for choice in self.productions[prod]:\n",
    "                if(len(choice) == 1 and choice in update_unit_prod):\n",
    "                    new_rules[prod].extend(update_unit_prod[choice])\n",
    "                elif(len(choice) == 1 and choice in self.productions and len(self.productions[choice])==1):\n",
    "                    new_rules[prod].extend(self.productions[choice])\n",
    "                else:\n",
    "                    new_rules[prod].append(choice)\n",
    "\n",
    "        self.productions = new_rules\n",
    "\n",
    "    def remove_null_production(self):\n",
    "        \n",
    "        \"\"\" It removes ε symbol from all productions \"\"\"\n",
    "\n",
    "        # first finding all non-terminals which generate epsilon symbols\n",
    "        null_var = set()\n",
    "        for prod in self.productions:\n",
    "            if('ε' in self.productions[prod]):\n",
    "                null_var.add(prod)\n",
    "        \n",
    "        def powerset(s):\n",
    "            if len(s) == 0:\n",
    "                return [[]]\n",
    "            else:\n",
    "                result = []\n",
    "                for subset in powerset(s[1:]):\n",
    "                    result.append(subset)\n",
    "                    result.append([s[0]]+subset)\n",
    "                return result\n",
    "        \n",
    "        new_rules = dict()\n",
    "\n",
    "        for prod in self.productions:\n",
    "            new_rules[prod] = []\n",
    "            for right in self.productions[prod]:\n",
    "                if(right=='ε'):\n",
    "                    continue\n",
    "                var = any([i in null_var for i in right])\n",
    "                if(not var):\n",
    "                    new_rules[prod].append(right)\n",
    "                else:\n",
    "                    # find non-nullable variables/terminals in production, because it must be present while removing null productions\n",
    "                    non_nullable = [i for i in right if i not in null_var]\n",
    "\n",
    "                    c1 = Counter(non_nullable)  # for checking \n",
    "                    possible_pairs = [\"\".join(i) for i in powerset(right)]\n",
    "                    \n",
    "                    for subset in possible_pairs:\n",
    "                        if(subset==''):\n",
    "                            continue\n",
    "                        c2 = Counter([i for i in subset if i not in null_var])  # all non-nullable character should not be changed while removing nullable character\n",
    "                        if(c1==c2 and subset not in new_rules[prod]):\n",
    "                            new_rules[prod].append(subset)\n",
    "\n",
    "        self.productions = new_rules\n",
    "    \n",
    "    def simplifyCFG(self):\n",
    "        \"\"\"\n",
    "            Remove Useless Productions\n",
    "\n",
    "            Remove Unit Production\n",
    "            \n",
    "            Remove Null Production\n",
    "        \"\"\"\n",
    "        self.remove_useless_production()\n",
    "        self.remove_unit_production()\n",
    "        self.remove_useless_production()\n",
    "        self.remove_null_production()\n",
    "    \n",
    "    def isCNF(self):\n",
    "        \n",
    "        \"\"\" Checks Whether Every Production is in CNF Form or Not : A->BC or A->a \"\"\"\n",
    "\n",
    "        for prod in self.productions:\n",
    "            for right in self.productions[prod]:\n",
    "                if(right in self.terminals):\n",
    "                    continue\n",
    "                if(len(right)!=2): return False\n",
    "                if(right[0] not in self.variables or right[1] not in self.variables): return False\n",
    "        return True\n",
    "\n",
    "    def convertCFG2CNF(self):\n",
    "        \n",
    "        \"\"\" ALL PRODUCTIONS MUST HAVE ONE OF THE FORMS\n",
    "\n",
    "            A -> BC or A->a (2 Non terminals or 1 terminal on rhs)\n",
    "        \n",
    "            where, A,B,C are Non-Terminals and a is Terminal    \n",
    "        \"\"\"\n",
    "        \n",
    "        self.simplifyCFG()\n",
    "\n",
    "        # first assign all terminals to variable\n",
    "        char = [chr(i+65) for i in range(26)]\n",
    "        mapping = dict() # for mapping\n",
    "        \n",
    "        for terminal in self.terminals:\n",
    "            for choice in char:\n",
    "                if choice not in self.variables:\n",
    "                    self.productions[choice] = [terminal]\n",
    "                    self.variables.add(choice)\n",
    "                    mapping[terminal] = choice\n",
    "                    break\n",
    "        \n",
    "        new_rules = dict()\n",
    "\n",
    "        for prod in self.productions:\n",
    "            new_rules[prod] = []\n",
    "            for right in self.productions[prod]:\n",
    "                if(right in self.terminals):\n",
    "                    new_rules[prod].append(right)\n",
    "                    continue\n",
    "                s = \"\"\n",
    "                for j in right:\n",
    "                    if(j in mapping):\n",
    "                        s += mapping[j]\n",
    "                    else:\n",
    "                        s += j\n",
    "                new_rules[prod].append(s)\n",
    "        \n",
    "        self.productions = new_rules\n",
    "        self.remove_useless_production()\n",
    "        \n",
    "        # continue the loop until CNF form is obtain\n",
    "        while(not self.isCNF()):\n",
    "            new_rules = dict()\n",
    "\n",
    "            # replacing left 2 variables\n",
    "\n",
    "            for prod in self.productions:\n",
    "                new_rules[prod] = []\n",
    "                for right in self.productions[prod]:\n",
    "                    if(right in self.terminals or len(right) == 2):\n",
    "                        new_rules[prod].append(right)\n",
    "                        continue\n",
    "\n",
    "                    new_var,rem = right[:2],right[2:]\n",
    "                    for choice in char:\n",
    "                        if choice not in self.variables:\n",
    "                            new_rules[choice] = [new_var]\n",
    "                            self.variables.add(choice)\n",
    "                            mapping[new_var] = choice\n",
    "                            break\n",
    "                    \n",
    "                    new_rules[prod].append(mapping[new_var]+rem)\n",
    "                        \n",
    "\n",
    "                    \n",
    "            self.productions = new_rules\n",
    "            self.remove_useless_production()\n",
    "        \n",
    "    def is_cfg_empty(self):\n",
    "\n",
    "        \"\"\" CHECKING WHETHER THE LANGUAGE GENERATED BY CFG IS EMPTY OR NON-EMPTY \"\"\"\n",
    "        \n",
    "        # if S is not present in productions or variables, then cfg is empty\n",
    "        self.simplifyCFG()\n",
    "        return 'S' not in self.variables\n",
    "    \n",
    "    def is_cfg_finite(self)->bool:\n",
    "        \n",
    "        \"\"\" CHECKING WHETHER THE LANGUAGE GENERATED BY CFG IS FINITE OR INFINTE \"\"\"\n",
    "        \n",
    "        self.convertCFG2CNF()\n",
    "        # assign number to each variable\n",
    "        mapVar = {}\n",
    "        var = list(self.variables)\n",
    "        for i in range(len(var)):\n",
    "            mapVar[var[i]] = i\n",
    "        \n",
    "        # make a graph\n",
    "        adj = [[0 for _ in range(len(var))] for _ in range(len(var))]\n",
    "\n",
    "        for prod in self.productions:\n",
    "            for right in self.productions[prod]:\n",
    "                if(len(right)==1):  # must be terminal character\n",
    "                    continue\n",
    "                for k in right:\n",
    "                    if(k.isupper()):\n",
    "                        adj[mapVar[prod]][mapVar[k]] = 1\n",
    "        \n",
    "        n = len(self.variables)\n",
    "\n",
    "        visited = [False for _ in range(n)]\n",
    "        pathVis = [False for _ in range(n)]\n",
    "\n",
    "        def detectCycle(node:int)->bool:\n",
    "            visited[node] = True\n",
    "            pathVis[node] = True\n",
    "\n",
    "            for i in range(n):\n",
    "                if(adj[node][i] == 1):\n",
    "                    if(not visited[i]):\n",
    "                        if(detectCycle(i)):\n",
    "                            return True\n",
    "                    elif(pathVis[i]):\n",
    "                        return True\n",
    "            \n",
    "            pathVis[node] = False # backtrack\n",
    "            return False\n",
    "        \n",
    "        return not detectCycle(0)  # if cycle detected, then not finite"
   ]
  },
  {
   "cell_type": "code",
   "execution_count": 14,
   "metadata": {},
   "outputs": [
    {
     "data": {
      "text/plain": [
       "['',\n",
       " 'a',\n",
       " 'a',\n",
       " 'aa',\n",
       " 'S',\n",
       " 'aS',\n",
       " 'aS',\n",
       " 'aaS',\n",
       " 'A',\n",
       " 'aA',\n",
       " 'aA',\n",
       " 'aaA',\n",
       " 'SA',\n",
       " 'aSA',\n",
       " 'aSA',\n",
       " 'aaSA']"
      ]
     },
     "execution_count": 14,
     "metadata": {},
     "output_type": "execute_result"
    }
   ],
   "source": [
    "def powerset(s):\n",
    "    if len(s) == 0:\n",
    "        return [[]]\n",
    "    else:\n",
    "        result = []\n",
    "        for subset in powerset(s[1:]):\n",
    "            result.append(subset)\n",
    "            result.append([s[0]]+subset)\n",
    "        return result\n",
    "# powerset('aSA')\n",
    "[\"\".join(i) for i in powerset('aaSA')]"
   ]
  },
  {
   "cell_type": "code",
   "execution_count": 38,
   "metadata": {},
   "outputs": [
    {
     "name": "stdout",
     "output_type": "stream",
     "text": [
      "True\n"
     ]
    }
   ],
   "source": [
    "a = Counter([])\n",
    "b = Counter([])\n",
    "print(a==b)"
   ]
  },
  {
   "cell_type": "code",
   "execution_count": 5,
   "metadata": {},
   "outputs": [],
   "source": [
    "G1 = \"\"\"\n",
    "    S->aA|bC\n",
    "    A->aA|bB|ε\n",
    "    B->bB/b/ε\n",
    "    C->cB/cC/ε\n",
    "    \"\"\"\n",
    "G2 = \"\"\"\n",
    "    S->AB\n",
    "    A->BC\n",
    "    B->CC\n",
    "    C->b/a\n",
    "    \"\"\"\n",
    "G3 = \"\"\"\n",
    "    S->AB\n",
    "    A->BC\n",
    "    B->CC\n",
    "    C->AB/a\n",
    "    \"\"\"\n",
    "G4 = \"\"\"\n",
    "    S->CA|BB\n",
    "    B->b|SB\n",
    "    C->D\n",
    "    D->b\n",
    "    A->a\n",
    "    E->F\n",
    "    F->a\n",
    "    \"\"\"\n",
    "G5 = \"\"\"\n",
    "    S->AB|AC\n",
    "    A->aAb|bAa|a\n",
    "    B->bbA|aaB|AB\n",
    "    C->abCa|aDb\n",
    "    D->bD|aC\n",
    "    E->a\n",
    "    \"\"\"\n",
    "G6 = \"\"\"\n",
    "    S->AB\n",
    "    A->a\n",
    "    B->C|b\n",
    "    C->D\n",
    "    D->E\n",
    "    E->a\n",
    "    \"\"\"\n",
    "G7 = \"\"\"\n",
    "    S->AB\n",
    "    A->aAA|ε\n",
    "    B->bBB|ε\n",
    "    \"\"\"\n",
    "G8 = \"\"\"\n",
    "    S->aA|aBB\n",
    "    A->aaA|ε\n",
    "    B->bB|bbC\n",
    "    C->B\n",
    "    D->F\n",
    "    F->a\n",
    "    \"\"\"\n",
    "G9 = \"\"\"\n",
    "    S->AB\n",
    "    A->aB|b\n",
    "    B->aC|bB\n",
    "    C->bB\n",
    "    D->a\n",
    "    \"\"\"\n",
    "G10 = \"\"\"\n",
    "    S->aSb|ab\n",
    "    \"\"\"\n",
    "G11 = \"\"\"\n",
    "    S->bA|aB\n",
    "    A->bAA|aS|a\n",
    "    B->aBB|bS|b\n",
    "    \"\"\"\n",
    "G12 = \"\"\"\n",
    "    S->aAB|Bb\n",
    "    A->a\n",
    "    B->b\n",
    "    \"\"\""
   ]
  },
  {
   "cell_type": "code",
   "execution_count": 6,
   "metadata": {},
   "outputs": [
    {
     "name": "stdout",
     "output_type": "stream",
     "text": [
      "CFG (V,T,S,P) = {\n",
      "\tV = {'B', 'A', 'S', 'D', 'C', 'E'}\n",
      "\tT = {'b', 'a'}\n",
      "\tS = 'S'\n",
      "\tP = {'S->AB', 'C->abCa', 'E->a', 'A->bAa', 'B->aaB', 'D->aC', 'A->aAb', 'C->aDb', 'B->bbA', 'B->AB', 'S->AC', 'A->a', 'D->bD'}\n",
      "}\n"
     ]
    }
   ],
   "source": [
    "cfg = CFG(productions=G5)\n",
    "print(cfg)"
   ]
  },
  {
   "cell_type": "code",
   "execution_count": 7,
   "metadata": {},
   "outputs": [
    {
     "data": {
      "text/plain": [
       "{'S': ['AB', 'AC'],\n",
       " 'A': ['aAb', 'bAa', 'a'],\n",
       " 'B': ['bbA', 'aaB', 'AB'],\n",
       " 'C': ['abCa', 'aDb'],\n",
       " 'D': ['bD', 'aC'],\n",
       " 'E': ['a']}"
      ]
     },
     "execution_count": 7,
     "metadata": {},
     "output_type": "execute_result"
    }
   ],
   "source": [
    "cfg.productions"
   ]
  },
  {
   "attachments": {},
   "cell_type": "markdown",
   "metadata": {},
   "source": [
    "### USELESS PRODUCTIONS -> Elimination of useless productions is need to elimate those variables which do not generate any terminal string & eliminate variables which are not required for derivation"
   ]
  },
  {
   "cell_type": "code",
   "execution_count": 7,
   "metadata": {},
   "outputs": [
    {
     "data": {
      "text/plain": [
       "{'A', 'B', 'C', 'D', 'S'}"
      ]
     },
     "execution_count": 7,
     "metadata": {},
     "output_type": "execute_result"
    }
   ],
   "source": [
    "cfg.reachableFromStart()"
   ]
  },
  {
   "cell_type": "code",
   "execution_count": 8,
   "metadata": {},
   "outputs": [
    {
     "name": "stdout",
     "output_type": "stream",
     "text": [
      "CFG (V,T,S,P) = {\n",
      "\tV = {'D', 'S', 'A', 'C', 'B'}\n",
      "\tT = {'a', 'b'}\n",
      "\tS = 'S'\n",
      "\tP = {'S->AB', 'C->abCa', 'A->bAa', 'A->aAb', 'B->aaB', 'B->AB', 'S->AC', 'C->aDb', 'B->bbA', 'A->a', 'D->aC', 'D->bD'}\n",
      "}\n"
     ]
    }
   ],
   "source": [
    "cfg.removeUnreachable(cfg.reachableFromStart())\n",
    "print(cfg)"
   ]
  },
  {
   "cell_type": "code",
   "execution_count": 9,
   "metadata": {},
   "outputs": [
    {
     "data": {
      "text/plain": [
       "{'A', 'B', 'S'}"
      ]
     },
     "execution_count": 9,
     "metadata": {},
     "output_type": "execute_result"
    }
   ],
   "source": [
    "cfg.deriveTerminalSymbol()"
   ]
  },
  {
   "cell_type": "code",
   "execution_count": 10,
   "metadata": {},
   "outputs": [
    {
     "name": "stdout",
     "output_type": "stream",
     "text": [
      "CFG (V,T,S,P) = {\n",
      "\tV = {'A', 'B', 'S'}\n",
      "\tT = {'a', 'b'}\n",
      "\tS = 'S'\n",
      "\tP = {'S->AB', 'A->bAa', 'A->aAb', 'B->aaB', 'B->AB', 'B->bbA', 'A->a'}\n",
      "}\n"
     ]
    }
   ],
   "source": [
    "cfg.removeProductive(cfg.deriveTerminalSymbol())\n",
    "print(cfg)"
   ]
  },
  {
   "cell_type": "code",
   "execution_count": 58,
   "metadata": {},
   "outputs": [
    {
     "name": "stdout",
     "output_type": "stream",
     "text": [
      "CFG (V,T,S,P) = {\n",
      "\tV = {'A', 'S', 'B'}\n",
      "\tT = {'a', 'b'}\n",
      "\tS = 'S'\n",
      "\tP = {'A->a', 'B->aaB', 'B->AB', 'S->AB', 'B->bbA', 'A->bAa', 'A->aAb'}\n",
      "}\n"
     ]
    }
   ],
   "source": [
    "# or directly\n",
    "cfg.remove_useless_production()\n",
    "print(cfg)"
   ]
  },
  {
   "attachments": {},
   "cell_type": "markdown",
   "metadata": {},
   "source": [
    "### UNIT PRODUCTION REMOVAL : FORM A -> B (where both are non-terminals) -> these function will remove unit production but will produce useless production, hence need to remove it afterwards"
   ]
  },
  {
   "cell_type": "code",
   "execution_count": 11,
   "metadata": {},
   "outputs": [
    {
     "name": "stdout",
     "output_type": "stream",
     "text": [
      "CFG (V,T,S,P) = {\n",
      "\tV = {'D', 'S', 'A', 'E', 'C', 'B'}\n",
      "\tT = {'a', 'b'}\n",
      "\tS = 'S'\n",
      "\tP = {'S->AB', 'B->C', 'B->b', 'E->a', 'C->D', 'A->a', 'D->E'}\n",
      "}\n"
     ]
    }
   ],
   "source": [
    "cfg2 = CFG(productions=G6)\n",
    "print(cfg2)"
   ]
  },
  {
   "cell_type": "code",
   "execution_count": 12,
   "metadata": {},
   "outputs": [
    {
     "name": "stdout",
     "output_type": "stream",
     "text": [
      "CFG (V,T,S,P) = {\n",
      "\tV = {'D', 'S', 'A', 'E', 'C', 'B'}\n",
      "\tT = {'a', 'b'}\n",
      "\tS = 'S'\n",
      "\tP = {'S->AB', 'B->b', 'D->a', 'E->a', 'C->a', 'A->a', 'B->a'}\n",
      "}\n"
     ]
    }
   ],
   "source": [
    "cfg2.remove_unit_production()\n",
    "print(cfg2)"
   ]
  },
  {
   "cell_type": "code",
   "execution_count": 13,
   "metadata": {},
   "outputs": [
    {
     "name": "stdout",
     "output_type": "stream",
     "text": [
      "CFG (V,T,S,P) = {\n",
      "\tV = {'A', 'S', 'B'}\n",
      "\tT = {'a', 'b'}\n",
      "\tS = 'S'\n",
      "\tP = {'B->a', 'S->AB', 'A->a', 'B->b'}\n",
      "}\n"
     ]
    }
   ],
   "source": [
    "cfg2.remove_useless_production()\n",
    "print(cfg2)"
   ]
  },
  {
   "attachments": {},
   "cell_type": "markdown",
   "metadata": {},
   "source": [
    "### NULL PRODUCTION REMOVAL : Removes ε from every production"
   ]
  },
  {
   "cell_type": "code",
   "execution_count": 72,
   "metadata": {},
   "outputs": [
    {
     "name": "stdout",
     "output_type": "stream",
     "text": [
      "CFG (V,T,S,P) = {\n",
      "\tV = {'A', 'S', 'B'}\n",
      "\tT = {'ε', 'a', 'b'}\n",
      "\tS = 'S'\n",
      "\tP = {'A->aAA', 'A->ε', 'S->AB', 'B->bBB', 'B->ε'}\n",
      "}\n"
     ]
    }
   ],
   "source": [
    "cfg3 = CFG(productions=G7)\n",
    "print(cfg3)"
   ]
  },
  {
   "cell_type": "code",
   "execution_count": 73,
   "metadata": {},
   "outputs": [
    {
     "name": "stdout",
     "output_type": "stream",
     "text": [
      "CFG (V,T,S,P) = {\n",
      "\tV = {'A', 'S', 'B'}\n",
      "\tT = {'ε', 'a', 'b'}\n",
      "\tS = 'S'\n",
      "\tP = {'A->a', 'B->b', 'A->aAA', 'S->AB', 'B->bBB', 'S->A', 'A->aA', 'S->B', 'B->bB'}\n",
      "}\n"
     ]
    }
   ],
   "source": [
    "cfg3.remove_null_production()\n",
    "print(cfg3)"
   ]
  },
  {
   "attachments": {},
   "cell_type": "markdown",
   "metadata": {},
   "source": [
    "### COMBINING THEM"
   ]
  },
  {
   "cell_type": "code",
   "execution_count": 83,
   "metadata": {},
   "outputs": [
    {
     "name": "stdout",
     "output_type": "stream",
     "text": [
      "CFG (V,T,S,P) = {\n",
      "\tV = {'A', 'C', 'F', 'S', 'D', 'B'}\n",
      "\tT = {'ε', 'a', 'b'}\n",
      "\tS = 'S'\n",
      "\tP = {'D->F', 'A->ε', 'S->aA', 'F->a', 'A->aaA', 'B->bbC', 'C->B', 'B->bB', 'S->aBB'}\n",
      "}\n"
     ]
    }
   ],
   "source": [
    "cfg4 = CFG(productions=G8)  # contans all useless,unit,null productions\n",
    "print(cfg4)"
   ]
  },
  {
   "cell_type": "code",
   "execution_count": 84,
   "metadata": {},
   "outputs": [
    {
     "name": "stdout",
     "output_type": "stream",
     "text": [
      "CFG (V,T,S,P) = {\n",
      "\tV = {'A', 'S'}\n",
      "\tT = {'ε', 'a', 'b'}\n",
      "\tS = 'S'\n",
      "\tP = {'S->a', 'A->aaA', 'A->aa', 'S->aA'}\n",
      "}\n"
     ]
    }
   ],
   "source": [
    "cfg4.simplifyCFG()\n",
    "print(cfg4)"
   ]
  },
  {
   "attachments": {},
   "cell_type": "markdown",
   "metadata": {},
   "source": [
    "#### EMPTYNESS PROBLEM : CHECKING WHETHER THE GRAMMER IS EMPTY OR NOT, SIMPLIFY THE GRAMMER, IF STARTING SYMBOL REMOVED, then GRAMMER IS EMPTY"
   ]
  },
  {
   "cell_type": "code",
   "execution_count": 93,
   "metadata": {},
   "outputs": [
    {
     "name": "stdout",
     "output_type": "stream",
     "text": [
      "CFG (V,T,S,P) = {\n",
      "\tV = {'A', 'C', 'S', 'D', 'B'}\n",
      "\tT = {'a', 'b'}\n",
      "\tS = 'S'\n",
      "\tP = {'S->AB', 'A->aB', 'C->bB', 'A->b', 'B->aC', 'D->a', 'B->bB'}\n",
      "}\n"
     ]
    }
   ],
   "source": [
    "cfg5 = CFG(productions=G9)\n",
    "print(cfg5)"
   ]
  },
  {
   "cell_type": "code",
   "execution_count": 94,
   "metadata": {},
   "outputs": [
    {
     "name": "stdout",
     "output_type": "stream",
     "text": [
      "CFG (V,T,S,P) = {\n",
      "\tV = set()\n",
      "\tT = {'a', 'b'}\n",
      "\tS = 'S'\n",
      "\tP = set()\n",
      "}\n"
     ]
    }
   ],
   "source": [
    "cfg5.simplifyCFG()\n",
    "print(cfg5)"
   ]
  },
  {
   "cell_type": "code",
   "execution_count": 95,
   "metadata": {},
   "outputs": [
    {
     "data": {
      "text/plain": [
       "True"
      ]
     },
     "execution_count": 95,
     "metadata": {},
     "output_type": "execute_result"
    }
   ],
   "source": [
    "cfg5.is_cfg_empty()"
   ]
  },
  {
   "attachments": {},
   "cell_type": "markdown",
   "metadata": {},
   "source": [
    "### CONVERSION OF CFG TO CNF (CHOMASKY NORMAL FORM)"
   ]
  },
  {
   "cell_type": "code",
   "execution_count": 52,
   "metadata": {},
   "outputs": [
    {
     "name": "stdout",
     "output_type": "stream",
     "text": [
      "CFG (V,T,S,P) = {\n",
      "\tV = {'S', 'A', 'B'}\n",
      "\tT = {'a', 'b'}\n",
      "\tS = 'S'\n",
      "\tP = {'A->bAA', 'S->aB', 'B->aBB', 'B->bS', 'A->aS', 'S->bA', 'A->a', 'B->b'}\n",
      "}\n"
     ]
    }
   ],
   "source": [
    "cfg6 = CFG(productions=G11)\n",
    "print(cfg6)"
   ]
  },
  {
   "cell_type": "code",
   "execution_count": 53,
   "metadata": {},
   "outputs": [
    {
     "data": {
      "text/plain": [
       "False"
      ]
     },
     "execution_count": 53,
     "metadata": {},
     "output_type": "execute_result"
    }
   ],
   "source": [
    "cfg6.isCNF()"
   ]
  },
  {
   "cell_type": "code",
   "execution_count": 54,
   "metadata": {},
   "outputs": [
    {
     "data": {
      "text/plain": [
       "True"
      ]
     },
     "execution_count": 54,
     "metadata": {},
     "output_type": "execute_result"
    }
   ],
   "source": [
    "cfg6.convertCFG2CNF()\n",
    "cfg6.isCNF()"
   ]
  },
  {
   "cell_type": "code",
   "execution_count": 55,
   "metadata": {},
   "outputs": [
    {
     "name": "stdout",
     "output_type": "stream",
     "text": [
      "CFG (V,T,S,P) = {\n",
      "\tV = {'S', 'A', 'B', 'E', 'C', 'F', 'D'}\n",
      "\tT = {'a', 'b'}\n",
      "\tS = 'S'\n",
      "\tP = {'C->a', 'D->b', 'E->DA', 'S->DA', 'A->EA', 'F->CB', 'S->CB', 'A->CS', 'B->DS', 'A->a', 'B->FB', 'B->b'}\n",
      "}\n"
     ]
    }
   ],
   "source": [
    "print(cfg6)"
   ]
  },
  {
   "attachments": {},
   "cell_type": "markdown",
   "metadata": {},
   "source": [
    "#### FINITENESS PROBLEM : CHECKING WHETHER THE LANGUAGE GENERATED BY CFG IS FINITE OR INFINITE"
   ]
  },
  {
   "cell_type": "code",
   "execution_count": 57,
   "metadata": {},
   "outputs": [
    {
     "data": {
      "text/plain": [
       "False"
      ]
     },
     "execution_count": 57,
     "metadata": {},
     "output_type": "execute_result"
    }
   ],
   "source": [
    "cfg6.is_cfg_finite()"
   ]
  },
  {
   "cell_type": "code",
   "execution_count": 5,
   "metadata": {},
   "outputs": [
    {
     "name": "stdout",
     "output_type": "stream",
     "text": [
      "CFG (V,T,S,P) = {\n",
      "\tV = {'C', 'B', 'S', 'A'}\n",
      "\tT = {'a', 'b'}\n",
      "\tS = 'S'\n",
      "\tP = {'A->BC', 'B->CC', 'C->b', 'S->AB', 'C->a'}\n",
      "}\n",
      "CFG (V,T,S,P) = {\n",
      "\tV = {'C', 'B', 'S', 'A'}\n",
      "\tT = {'a'}\n",
      "\tS = 'S'\n",
      "\tP = {'C->AB', 'A->BC', 'B->CC', 'S->AB', 'C->a'}\n",
      "}\n"
     ]
    }
   ],
   "source": [
    "cfg7 = CFG(productions=G2)\n",
    "print(cfg7)\n",
    "cfg8 = CFG(productions=G3)\n",
    "print(cfg8)"
   ]
  },
  {
   "cell_type": "code",
   "execution_count": 6,
   "metadata": {},
   "outputs": [
    {
     "data": {
      "text/plain": [
       "True"
      ]
     },
     "execution_count": 6,
     "metadata": {},
     "output_type": "execute_result"
    }
   ],
   "source": [
    "cfg7.is_cfg_finite()"
   ]
  },
  {
   "cell_type": "code",
   "execution_count": 7,
   "metadata": {},
   "outputs": [
    {
     "data": {
      "text/plain": [
       "False"
      ]
     },
     "execution_count": 7,
     "metadata": {},
     "output_type": "execute_result"
    }
   ],
   "source": [
    "cfg8.is_cfg_finite()"
   ]
  }
 ],
 "metadata": {
  "kernelspec": {
   "display_name": "base",
   "language": "python",
   "name": "python3"
  },
  "language_info": {
   "codemirror_mode": {
    "name": "ipython",
    "version": 3
   },
   "file_extension": ".py",
   "mimetype": "text/x-python",
   "name": "python",
   "nbconvert_exporter": "python",
   "pygments_lexer": "ipython3",
   "version": "3.9.7"
  },
  "orig_nbformat": 4
 },
 "nbformat": 4,
 "nbformat_minor": 2
}
